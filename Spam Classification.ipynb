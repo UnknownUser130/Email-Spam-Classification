{
 "cells": [
  {
   "cell_type": "code",
   "execution_count": 3,
   "id": "557c13af",
   "metadata": {},
   "outputs": [],
   "source": [
    "import pandas as pd\n",
    "import numpy as np\n",
    "from sklearn.model_selection import train_test_split\n",
    "from sklearn.metrics import precision_score,f1_score,confusion_matrix,accuracy_score"
   ]
  },
  {
   "cell_type": "code",
   "execution_count": 11,
   "id": "d797c875",
   "metadata": {},
   "outputs": [],
   "source": [
    "Enron_df=pd.read_csv('Enron.csv')\n",
    "SpamAssassin_df = pd.read_csv('SpamAssasin_dataset.csv')"
   ]
  },
  {
   "cell_type": "code",
   "execution_count": 8,
   "id": "10b2ed0b",
   "metadata": {},
   "outputs": [
    {
     "data": {
      "text/plain": [
       "0    Subject: if you smoke - you need to read this ...\n",
       "1    Subject: finessing\\nnumbers , `\\n75 % off for ...\n",
       "2    Subject: lose while you sleep ! as seen on opr...\n",
       "3    Subject: make memories last with a free canon ...\n",
       "4    Subject: pac april 2001 transmission losses\\nk...\n",
       "Name: content, dtype: object"
      ]
     },
     "execution_count": 8,
     "metadata": {},
     "output_type": "execute_result"
    }
   ],
   "source": []
  },
  {
   "cell_type": "code",
   "execution_count": null,
   "id": "d92ed923",
   "metadata": {},
   "outputs": [],
   "source": []
  }
 ],
 "metadata": {
  "kernelspec": {
   "display_name": "Python 3 (ipykernel)",
   "language": "python",
   "name": "python3"
  },
  "language_info": {
   "codemirror_mode": {
    "name": "ipython",
    "version": 3
   },
   "file_extension": ".py",
   "mimetype": "text/x-python",
   "name": "python",
   "nbconvert_exporter": "python",
   "pygments_lexer": "ipython3",
   "version": "3.11.4"
  }
 },
 "nbformat": 4,
 "nbformat_minor": 5
}
