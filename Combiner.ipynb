{
 "cells": [
  {
   "cell_type": "markdown",
   "id": "fb652ade",
   "metadata": {},
   "source": [
    "# SpamAssassin Dataset"
   ]
  },
  {
   "cell_type": "code",
   "execution_count": 4,
   "id": "d709ba2d",
   "metadata": {},
   "outputs": [
    {
     "name": "stdout",
     "output_type": "stream",
     "text": [
      "0    6954\n",
      "1    2397\n",
      "Name: label, dtype: int64\n"
     ]
    }
   ],
   "source": [
    "import pandas as pd\n",
    "\n",
    "# Load the ham and spam CSV files\n",
    "easy_ham_df = pd.read_csv('easy_ham.csv')\n",
    "easy_ham_2_df = pd.read_csv('easy_ham_2.csv')\n",
    "hard_ham_df = pd.read_csv('hard_ham.csv')\n",
    "\n",
    "spam_df = pd.read_csv('spam_cleaned.csv')\n",
    "spam_2_df = pd.read_csv('spam_cleaned_2.csv')\n",
    "\n",
    "\n",
    "# Concatenate the DataFrames\n",
    "combined_df = pd.concat([easy_ham_df,easy_ham_2_df,hard_ham_df,spam_df,spam_2_df], ignore_index=True)\n",
    "\n",
    "# Optionally, shuffle the combined dataset\n",
    "combined_df = combined_df.sample(frac=1, random_state=42).reset_index(drop=True)\n",
    "\n",
    "# Save the unified dataset to a CSV file\n",
    "combined_df.to_csv('SpamAssassin.csv', index=False)\n",
    "\n",
    "# Verify the combined dataset\n",
    "print(combined_df['label'].value_counts())\n"
   ]
  },
  {
   "cell_type": "markdown",
   "id": "9d9d2e51",
   "metadata": {},
   "source": [
    "# Enron Dataset SubSampled"
   ]
  },
  {
   "cell_type": "code",
   "execution_count": 2,
   "id": "55e22545",
   "metadata": {},
   "outputs": [
    {
     "name": "stdout",
     "output_type": "stream",
     "text": [
      "0    4473\n",
      "1    3109\n",
      "Name: label, dtype: int64\n"
     ]
    }
   ],
   "source": [
    "import pandas as pd\n",
    "\n",
    "# Load the ham and spam CSV files\n",
    "enron_ham_df = pd.read_csv('enron_ham.csv')\n",
    "\n",
    "enron_spam_df = pd.read_csv('enron_spam.csv')\n",
    "\n",
    "enron_spam_sample = enron_spam_df.sample(n=3109, random_state=42)\n",
    "enron_ham_sample = enron_ham_df.sample(n=4473, random_state=42)\n",
    "\n",
    "# Concatenate the DataFrames\n",
    "combined_df = pd.concat([enron_ham_sample, enron_spam_sample], ignore_index=True)\n",
    "\n",
    "# Optionally, shuffle the combined dataset\n",
    "combined_df = combined_df.sample(frac=1, random_state=42).reset_index(drop=True)\n",
    "\n",
    "# Save the unified dataset to a CSV file\n",
    "combined_df.to_csv('Enron.csv', index=False)\n",
    "\n",
    "# Verify the combined dataset\n",
    "print(combined_df['label'].value_counts())"
   ]
  },
  {
   "cell_type": "code",
   "execution_count": null,
   "id": "803ce624",
   "metadata": {},
   "outputs": [],
   "source": []
  },
  {
   "cell_type": "code",
   "execution_count": 8,
   "id": "2db8d632",
   "metadata": {},
   "outputs": [],
   "source": [
    "email=combined_df.loc[8]"
   ]
  },
  {
   "cell_type": "code",
   "execution_count": 10,
   "id": "875a3d62",
   "metadata": {},
   "outputs": [
    {
     "name": "stdout",
     "output_type": "stream",
     "text": [
      "Email Label: 0\n",
      "Email Content:\n",
      "CNET: Miniature cameras and privacy laws\n"
     ]
    }
   ],
   "source": [
    "print(f\"Email Label: {email['label']}\")\n",
    "print(f\"Email Content:\\n{email['subject']}\")"
   ]
  },
  {
   "cell_type": "code",
   "execution_count": null,
   "id": "1e20566f",
   "metadata": {},
   "outputs": [],
   "source": []
  }
 ],
 "metadata": {
  "kernelspec": {
   "display_name": "Python 3 (ipykernel)",
   "language": "python",
   "name": "python3"
  },
  "language_info": {
   "codemirror_mode": {
    "name": "ipython",
    "version": 3
   },
   "file_extension": ".py",
   "mimetype": "text/x-python",
   "name": "python",
   "nbconvert_exporter": "python",
   "pygments_lexer": "ipython3",
   "version": "3.11.4"
  }
 },
 "nbformat": 4,
 "nbformat_minor": 5
}
